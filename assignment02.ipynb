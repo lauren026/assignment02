{
 "cells": [
  {
   "cell_type": "markdown",
   "metadata": {},
   "source": [
    "## NAME : Kim Su Bin\n",
    "## Student ID : 20143750"
   ]
  },
  {
   "cell_type": "markdown",
   "metadata": {},
   "source": [
    "Import packages for plotting data, handle sine function, and also handle data"
   ]
  },
  {
   "cell_type": "code",
   "execution_count": 3,
   "metadata": {},
   "outputs": [],
   "source": [
    "import sympy as sy\n",
    "import numpy as np\n",
    "import matplotlib.pyplot as plt\n",
    "from sympy.functions import sin"
   ]
  },
  {
   "cell_type": "markdown",
   "metadata": {},
   "source": [
    "Define my function : sin(x)"
   ]
  },
  {
   "cell_type": "code",
   "execution_count": 4,
   "metadata": {},
   "outputs": [],
   "source": [
    "def myFunction(x):\n",
    "    funct=np.sin(x)\n",
    "    return funct"
   ]
  },
  {
   "cell_type": "markdown",
   "metadata": {},
   "source": [
    "Define my derivative function : f'(x) = cos(x)"
   ]
  },
  {
   "cell_type": "code",
   "execution_count": 5,
   "metadata": {},
   "outputs": [],
   "source": [
    "def myDerivativeFunction(x):\n",
    "    Df=np.cos(x)\n",
    "    return Df"
   ]
  },
  {
   "cell_type": "markdown",
   "metadata": {},
   "source": [
    "I also define the factorial function for taylor approximation"
   ]
  },
  {
   "cell_type": "code",
   "execution_count": 6,
   "metadata": {},
   "outputs": [],
   "source": [
    "def factorial(n):\n",
    "    if n <= 0:\n",
    "        return 1\n",
    "    else:\n",
    "        return n*factorial(n-1)"
   ]
  },
  {
   "cell_type": "markdown",
   "metadata": {},
   "source": [
    "For Taylor approximation at x, I defined the function"
   ]
  },
  {
   "cell_type": "code",
   "execution_count": 7,
   "metadata": {},
   "outputs": [],
   "source": [
    "def taylor(function, x, n):\n",
    "    i = 0\n",
    "    j = 0\n",
    "    while i <= n:\n",
    "        j = j + (function.diff(sy.Symbol('x'),i).subs(sy.Symbol('x'),x))/(factorial(i))*(sy.Symbol('x')-x)**i\n",
    "        i = i + 1\n",
    "    return j"
   ]
  },
  {
   "cell_type": "markdown",
   "metadata": {},
   "source": [
    "To plot my function and derivative function, Define the function"
   ]
  },
  {
   "cell_type": "code",
   "execution_count": 8,
   "metadata": {},
   "outputs": [],
   "source": [
    "def plotFunct():\n",
    "    x=np.arange(-10, 10, 0.1)\n",
    "    f=myFunction(x)\n",
    "    Df=myDerivativeFunction(x)\n",
    "\n",
    "    plt.figure(1)\n",
    "    plt.plot(x, f, 'b', label=\"function\")\n",
    "    plt.plot(x, Df, 'r', label=\"derivative\")\n",
    "    plt.legend(bbox_to_anchor=(1.05, 1), loc=2, borderaxespad=0, )"
   ]
  },
  {
   "cell_type": "markdown",
   "metadata": {},
   "source": [
    "And, plot my Taylor approximation function, Define the function"
   ]
  },
  {
   "cell_type": "code",
   "execution_count": 9,
   "metadata": {},
   "outputs": [],
   "source": [
    "def plot():\n",
    "    x_lims = [-10,10]\n",
    "    x1 = np.linspace(x_lims[0], x_lims[1], 800)\n",
    "    y1 = []\n",
    "\n",
    "    # Apply 3 point\n",
    "    func = taylor(sin(sy.Symbol('x')), 0, 3)\n",
    "    for k in x1:\n",
    "        y1.append(func.subs(sy.Symbol('x'), k))\n",
    "    plt.plot(x1, y1, label='x='+str(3))\n",
    "    y1 = []\n",
    "\n",
    "    func = taylor(sin(sy.Symbol('x')), 0, 6)\n",
    "    for k in x1:\n",
    "        y1.append(func.subs(sy.Symbol('x'), k))\n",
    "    plt.plot(x1, y1, label='x='+str(6))\n",
    "    y1 = []\n",
    "\n",
    "    func = taylor(sin(sy.Symbol('x')), 0, 9)\n",
    "    for k in x1:\n",
    "        y1.append(func.subs(sy.Symbol('x'), k))\n",
    "    plt.plot(x1, y1, label='x='+str(9))\n",
    "\n",
    "    plt.xlim([-10,10])\n",
    "    plt.ylim([-10,10])\n",
    "    plt.legend()\n",
    "    plt.show()"
   ]
  },
  {
   "cell_type": "markdown",
   "metadata": {},
   "source": [
    "In plot function, I choose the point 3, 6, and 9"
   ]
  },
  {
   "cell_type": "markdown",
   "metadata": {},
   "source": [
    "Taylor Approximation in sine function :"
   ]
  },
  {
   "cell_type": "markdown",
   "metadata": {},
   "source": [
    "$$ sin(x) = \\sum_{i=0}^{\\infty}\\frac{(-1)^{(n)}}{(2n+1)!}x^{(2n+1)} $$"
   ]
  },
  {
   "cell_type": "markdown",
   "metadata": {},
   "source": [
    "$$ = x - \\frac { x^3 } { 3! } + \\frac { x^5 } { 5! } - \\frac { x^7 } { 7! } + ...$$"
   ]
  },
  {
   "cell_type": "markdown",
   "metadata": {},
   "source": [
    "And execute the function"
   ]
  },
  {
   "cell_type": "code",
   "execution_count": 17,
   "metadata": {},
   "outputs": [
    {
     "data": {
      "image/png": "[encoded data removed]",
      "text/plain": [
       "<Figure size 432x288 with 1 Axes>"
      ]
     },
     "metadata": {
      "needs_background": "light"
     },
     "output_type": "display_data"
    }
   ],
   "source": [
    "plotFunct()\n",
    "plot()"
   ]
  },
  {
   "cell_type": "markdown",
   "metadata": {},
   "source": [
    "This is the plot of function, derivative function, and taylor approximation when x=3, 6, 9"
   ]
  },
  {
   "cell_type": "code",
   "execution_count": null,
   "metadata": {},
   "outputs": [],
   "source": []
  }
 ],
 "metadata": {
  "kernelspec": {
   "display_name": "Python 3",
   "language": "python",
   "name": "python3"
  },
  "language_info": {
   "codemirror_mode": {
    "name": "ipython",
    "version": 3
   },
   "file_extension": ".py",
   "mimetype": "text/x-python",
   "name": "python",
   "nbconvert_exporter": "python",
   "pygments_lexer": "ipython3",
   "version": "3.7.0"
  }
 },
 "nbformat": 4,
 "nbformat_minor": 2
}
